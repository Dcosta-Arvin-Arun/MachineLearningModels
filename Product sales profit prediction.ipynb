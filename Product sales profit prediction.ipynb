{
 "cells": [
  {
   "cell_type": "markdown",
   "metadata": {},
   "source": [
    "**Product sales profit prediction**"
   ]
  },
  {
   "cell_type": "code",
   "execution_count": 2,
   "metadata": {},
   "outputs": [],
   "source": [
    "import pandas as pd\n",
    "profit = pd.read_csv(\"https://github.com/YBI-Foundation/Dataset/raw/main/Product%20Sales%20Data.csv\")"
   ]
  },
  {
   "cell_type": "code",
   "execution_count": 3,
   "metadata": {},
   "outputs": [
    {
     "data": {
      "text/html": [
       "<div>\n",
       "<style scoped>\n",
       "    .dataframe tbody tr th:only-of-type {\n",
       "        vertical-align: middle;\n",
       "    }\n",
       "\n",
       "    .dataframe tbody tr th {\n",
       "        vertical-align: top;\n",
       "    }\n",
       "\n",
       "    .dataframe thead th {\n",
       "        text-align: right;\n",
       "    }\n",
       "</style>\n",
       "<table border=\"1\" class=\"dataframe\">\n",
       "  <thead>\n",
       "    <tr style=\"text-align: right;\">\n",
       "      <th></th>\n",
       "      <th>Month</th>\n",
       "      <th>Cream</th>\n",
       "      <th>Detergent</th>\n",
       "      <th>Moisturizer</th>\n",
       "      <th>Sanitizer</th>\n",
       "      <th>Shampoo</th>\n",
       "      <th>Soap</th>\n",
       "      <th>Total Units</th>\n",
       "      <th>Total Profit</th>\n",
       "    </tr>\n",
       "  </thead>\n",
       "  <tbody>\n",
       "    <tr>\n",
       "      <th>0</th>\n",
       "      <td>Jan</td>\n",
       "      <td>5100</td>\n",
       "      <td>9600</td>\n",
       "      <td>1525</td>\n",
       "      <td>1550</td>\n",
       "      <td>1200</td>\n",
       "      <td>2510</td>\n",
       "      <td>21485</td>\n",
       "      <td>211500</td>\n",
       "    </tr>\n",
       "    <tr>\n",
       "      <th>1</th>\n",
       "      <td>Feb</td>\n",
       "      <td>5000</td>\n",
       "      <td>6500</td>\n",
       "      <td>1225</td>\n",
       "      <td>1250</td>\n",
       "      <td>2100</td>\n",
       "      <td>2640</td>\n",
       "      <td>18715</td>\n",
       "      <td>183800</td>\n",
       "    </tr>\n",
       "    <tr>\n",
       "      <th>2</th>\n",
       "      <td>Mar</td>\n",
       "      <td>4450</td>\n",
       "      <td>9950</td>\n",
       "      <td>1365</td>\n",
       "      <td>1390</td>\n",
       "      <td>3550</td>\n",
       "      <td>2150</td>\n",
       "      <td>22855</td>\n",
       "      <td>225200</td>\n",
       "    </tr>\n",
       "    <tr>\n",
       "      <th>3</th>\n",
       "      <td>Apr</td>\n",
       "      <td>5770</td>\n",
       "      <td>9270</td>\n",
       "      <td>1155</td>\n",
       "      <td>1180</td>\n",
       "      <td>1870</td>\n",
       "      <td>3410</td>\n",
       "      <td>22655</td>\n",
       "      <td>223200</td>\n",
       "    </tr>\n",
       "    <tr>\n",
       "      <th>4</th>\n",
       "      <td>May</td>\n",
       "      <td>4460</td>\n",
       "      <td>8160</td>\n",
       "      <td>1765</td>\n",
       "      <td>1790</td>\n",
       "      <td>1560</td>\n",
       "      <td>3610</td>\n",
       "      <td>21345</td>\n",
       "      <td>210100</td>\n",
       "    </tr>\n",
       "  </tbody>\n",
       "</table>\n",
       "</div>"
      ],
      "text/plain": [
       "  Month  Cream  Detergent  Moisturizer  Sanitizer  Shampoo  Soap  Total Units  \\\n",
       "0   Jan   5100       9600         1525       1550     1200  2510        21485   \n",
       "1   Feb   5000       6500         1225       1250     2100  2640        18715   \n",
       "2   Mar   4450       9950         1365       1390     3550  2150        22855   \n",
       "3   Apr   5770       9270         1155       1180     1870  3410        22655   \n",
       "4   May   4460       8160         1765       1790     1560  3610        21345   \n",
       "\n",
       "   Total Profit  \n",
       "0        211500  \n",
       "1        183800  \n",
       "2        225200  \n",
       "3        223200  \n",
       "4        210100  "
      ]
     },
     "execution_count": 3,
     "metadata": {},
     "output_type": "execute_result"
    }
   ],
   "source": [
    "profit.head()"
   ]
  },
  {
   "cell_type": "code",
   "execution_count": 28,
   "metadata": {},
   "outputs": [
    {
     "name": "stdout",
     "output_type": "stream",
     "text": [
      "<class 'pandas.core.frame.DataFrame'>\n",
      "RangeIndex: 12 entries, 0 to 11\n",
      "Data columns (total 9 columns):\n",
      " #   Column        Non-Null Count  Dtype \n",
      "---  ------        --------------  ----- \n",
      " 0   Month         12 non-null     object\n",
      " 1   Cream         12 non-null     int64 \n",
      " 2   Detergent     12 non-null     int64 \n",
      " 3   Moisturizer   12 non-null     int64 \n",
      " 4   Sanitizer     12 non-null     int64 \n",
      " 5   Shampoo       12 non-null     int64 \n",
      " 6   Soap          12 non-null     int64 \n",
      " 7   Total Units   12 non-null     int64 \n",
      " 8   Total Profit  12 non-null     int64 \n",
      "dtypes: int64(8), object(1)\n",
      "memory usage: 996.0+ bytes\n"
     ]
    }
   ],
   "source": [
    "profit.info()"
   ]
  },
  {
   "cell_type": "code",
   "execution_count": 4,
   "metadata": {},
   "outputs": [
    {
     "data": {
      "text/plain": [
       "Index(['Month', 'Cream', 'Detergent', 'Moisturizer', 'Sanitizer', 'Shampoo',\n",
       "       'Soap', 'Total Units', 'Total Profit'],\n",
       "      dtype='object')"
      ]
     },
     "execution_count": 4,
     "metadata": {},
     "output_type": "execute_result"
    }
   ],
   "source": [
    "profit.columns"
   ]
  },
  {
   "cell_type": "code",
   "execution_count": 34,
   "metadata": {},
   "outputs": [],
   "source": [
    "X = profit.drop(['Month','Total Profit'], axis=1)\n",
    "y = profit['Total Profit']"
   ]
  },
  {
   "cell_type": "code",
   "execution_count": 35,
   "metadata": {},
   "outputs": [],
   "source": [
    "from sklearn.model_selection import train_test_split\n",
    "X_train, X_test, y_train, y_test = train_test_split(X, y)\n",
    "from sklearn.linear_model import LinearRegression\n",
    "model = LinearRegression()"
   ]
  },
  {
   "cell_type": "code",
   "execution_count": 36,
   "metadata": {},
   "outputs": [],
   "source": [
    "model.fit(X_train, y_train)\n",
    "y_pred = model.predict(X_test)"
   ]
  },
  {
   "cell_type": "code",
   "execution_count": 38,
   "metadata": {},
   "outputs": [
    {
     "name": "stdout",
     "output_type": "stream",
     "text": [
      "99.50606898207384\n"
     ]
    }
   ],
   "source": [
    "from sklearn.metrics import mean_absolute_percentage_error\n",
    "accuracy = 100 - mean_absolute_percentage_error(y_test, y_pred)\n",
    "print(accuracy)"
   ]
  }
 ],
 "metadata": {
  "kernelspec": {
   "display_name": "Python 3",
   "language": "python",
   "name": "python3"
  },
  "language_info": {
   "codemirror_mode": {
    "name": "ipython",
    "version": 3
   },
   "file_extension": ".py",
   "mimetype": "text/x-python",
   "name": "python",
   "nbconvert_exporter": "python",
   "pygments_lexer": "ipython3",
   "version": "3.11.5"
  }
 },
 "nbformat": 4,
 "nbformat_minor": 2
}
